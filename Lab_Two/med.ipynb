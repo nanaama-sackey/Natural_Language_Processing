{
 "cells": [
  {
   "cell_type": "markdown",
   "metadata": {},
   "source": [
    "# Nana Ama Atombo-Sackey##\n",
    "    Lab Two\n",
    "    1st October, 2018\n",
    "    Calculating Minimum edit distance between two words"
   ]
  },
  {
   "cell_type": "code",
   "execution_count": 20,
   "metadata": {},
   "outputs": [
    {
     "name": "stdout",
     "output_type": "stream",
     "text": [
      "The minimum edit distance between intention and execution is:  8\n"
     ]
    }
   ],
   "source": [
    "import sys\n",
    "\n",
    "def min_edit_distance( source, target ):\n",
    "   subs_cost = 2\n",
    "   insert_cost = 1 \n",
    "   delete_cost = 1\n",
    "   source_length = len( source )\n",
    "   target_length = len( target )\n",
    "\n",
    "   matrix = [ [0] * (target_length + 1) for i in range(source_length + 1) ] #the matrix whose last element -> edit distance\n",
    "\n",
    "   for i in range( 0, source_length + 1 ): #initialization of base case values\n",
    "      matrix[i][0] = i\n",
    "   for j in range( 0, target_length + 1 ):\n",
    "      matrix[0][j] = j\n",
    "   for i in range ( 1, source_length + 1 ):\n",
    "      for j in range( 1, target_length + 1 ):\n",
    "         if source[i - 1] == target[j - 1]:\n",
    "            matrix[i][j] = matrix[i - 1][j - 1]\n",
    "         else:\n",
    "            matrix[i][j] = min(\n",
    "               matrix[i][j - 1] + insert_cost,\n",
    "               matrix[i - 1][j] + delete_cost,\n",
    "               matrix[i - 1][j - 1] + subs_cost\n",
    "            )\n",
    "   print(\"The minimum edit distance between\" ,source, \"and\", target, \"is: \" ,matrix[i][j] )\n",
    "\t\n",
    "#This is to make it possible to run the py file from the cmd\n",
    "min_edit_distance( str(sys.argv[1]), str(sys.argv[2]) );\n",
    "#min_edit_distance(\"intention\",\"execution\")\n"
   ]
  }
 ],
 "metadata": {
  "kernelspec": {
   "display_name": "Python 3",
   "language": "python",
   "name": "python3"
  },
  "language_info": {
   "codemirror_mode": {
    "name": "ipython",
    "version": 3
   },
   "file_extension": ".py",
   "mimetype": "text/x-python",
   "name": "python",
   "nbconvert_exporter": "python",
   "pygments_lexer": "ipython3",
   "version": "3.7.0"
  }
 },
 "nbformat": 4,
 "nbformat_minor": 2
}
