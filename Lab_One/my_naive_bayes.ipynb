{
 "cells": [
  {
   "cell_type": "markdown",
   "metadata": {},
   "source": [
    " ### Natural Language Processing ###\n",
    "  # A Naive Bayes Classifier \n",
    "  #  Name: Nana Ama Atombo-Sackey\n",
    "  #    Lab One"
   ]
  },
  {
   "cell_type": "code",
   "execution_count": 3,
   "metadata": {},
   "outputs": [
    {
     "name": "stdout",
     "output_type": "stream",
     "text": [
      "The total words in the negative class is:  1500\n",
      "The total words in the positive class is:  1500\n"
     ]
    }
   ],
   "source": [
    "import sys\n",
    "import re\n",
    "import random\n",
    "from math import *\n",
    "#reading files to train on.\n",
    "def readFile(files):\n",
    "    data = {\n",
    "        0:[],\n",
    "        1:[]}\n",
    "    for file in files:\n",
    "        for line in open(file):\n",
    "            # getting rid of all regular expressions not needed\n",
    "            review = line.split('\\n')\n",
    "            review = review[0].split('\\t')\n",
    "            features = re.sub(r\"[&)#-=$!(%)]+\",\"\",review[0])   \n",
    "            label = int(review[1])\n",
    "            if label == 0:\n",
    "                data[0].append(features.split())\n",
    "            else:\n",
    "                data[1].append(features.split())\n",
    "            \n",
    "    print(\"The total words in the negative class is: \" , len(data[0])) \n",
    "    print(\"The total words in the positive class is: \" , len(data[1])) \n",
    "    return data\n",
    "corpus= readFile(['amazon_cells_labelled.txt',\"imdb_labelled.txt\",\"yelp_labelled.txt\"])\n",
    "    \n"
   ]
  },
  {
   "cell_type": "markdown",
   "metadata": {},
   "source": [
    " #### Calculating log prior and loglikelihood by implementing it in the trian function below ##"
   ]
  },
  {
   "cell_type": "code",
   "execution_count": 4,
   "metadata": {},
   "outputs": [
    {
     "name": "stdout",
     "output_type": "stream",
     "text": [
      "The number of documents in D(corpus) is : 3000\n",
      "The number of documents from Corpus in the class is:  1500\n",
      "The logpriority is:  {0: -0.6931471805599453, 1: -0.6931471805599453}\n"
     ]
    }
   ],
   "source": [
    "def train(doc):\n",
    "    #Initializng the logprior and Loglikehood\n",
    "    classes= [0,1]\n",
    "    prior = dict()\n",
    "    likelihood= {\n",
    "        0:{},\n",
    "        1:{}\n",
    "    }\n",
    "    numOfDocD = len(doc[0])+len(doc[1])\n",
    "    wordCount = {\n",
    "        0:{},\n",
    "        1:{}\n",
    "    }\n",
    "    print(\"The number of documents in D(corpus) is :\", numOfDocD)\n",
    "    \n",
    "    #calculating log prior\n",
    "    for c in classes:\n",
    "        numOfDocClass = len(doc[c])\n",
    "        prior[c] = log((numOfDocClass/numOfDocD))\n",
    "              \n",
    "    print(\"The number of documents from Corpus in the class is: \",numOfDocClass)\n",
    "    print(\"The logpriority is: \", prior)\n",
    "    \n",
    "    \n",
    "   # Calculating log likelihood\n",
    "    for c in doc:\n",
    "        for reviews in doc[c]:\n",
    "\n",
    "            for words in reviews:\n",
    "                if words in wordCount[c]:\n",
    "                    wordCount[c][words]+=1\n",
    "                else:\n",
    "                    wordCount[c][words]=1\n",
    "    \n",
    "    vocabulary = []\n",
    "    for c in classes:\n",
    "        vocabulary += list(wordCount[c].keys()) \n",
    "    vocabulary = set(vocabulary)\n",
    "    for words in vocabulary:\n",
    "        for c in classes:\n",
    "            if words in wordCount[c]:\n",
    "                likelihood[c][words] = log( ((wordCount[c][words] + 1)/(sum(wordCount[c].values())+len(vocabulary))) )\n",
    "            else:\n",
    "                 likelihood[c][words] = log(((1)/(sum(wordCount[c].values())+len(vocabulary))) )\n",
    " \n",
    "    return prior,likelihood,vocabulary\n",
    "prior,likelihood,vocabulary=train(corpus)"
   ]
  },
  {
   "cell_type": "markdown",
   "metadata": {},
   "source": [
    "#### Implementing Test Function and Results File or Output ####"
   ]
  },
  {
   "cell_type": "code",
   "execution_count": 5,
   "metadata": {},
   "outputs": [],
   "source": [
    "def test(doc, prior, likelihood,vocabulary):\n",
    "    summ = dict()\n",
    "    for c in [0,1]:\n",
    "        summ[c]= prior[c]\n",
    "        for word in doc.split():\n",
    "            if word in vocabulary:\n",
    "                summ[c] = summ[c] + likelihood[c][word]\n",
    "    print(summ)\n",
    "    if summ[0]> summ[1]:\n",
    "        return 0 \n",
    "    else:\n",
    "        return 1\n",
    "    return vocabulary\n",
    "\n",
    "\n",
    "def read(file):\n",
    "    read_me = open(file, \"r\") #Reading file\n",
    "    write_file = open(\"results_file.txt\", \"w\") # Writing to file\n",
    "    finalRead = read_me.readline()\n",
    "    while (len(finalRead)!= 0):\n",
    "        result = test(finalRead, prior,likelihood,vocabulary)\n",
    "        print(\"The class for this input is: \",result)\n",
    "        write_file.write(str(result) + str(\"\\n\"))\n",
    "        finalRead = read_me.readline()\n",
    "\n"
   ]
  },
  {
   "cell_type": "code",
   "execution_count": null,
   "metadata": {},
   "outputs": [],
   "source": [
    "if __name__ == \"__main__\":\n",
    "    read(sys.argv[1])\n",
    "else:\n",
    "    print(\"Unable to take file please\")\n"
   ]
  }
 ],
 "metadata": {
  "kernelspec": {
   "display_name": "Python 3",
   "language": "python",
   "name": "python3"
  },
  "language_info": {
   "codemirror_mode": {
    "name": "ipython",
    "version": 3
   },
   "file_extension": ".py",
   "mimetype": "text/x-python",
   "name": "python",
   "nbconvert_exporter": "python",
   "pygments_lexer": "ipython3",
   "version": "3.7.0"
  }
 },
 "nbformat": 4,
 "nbformat_minor": 2
}
